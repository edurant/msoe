{
 "cells": [
  {
   "cell_type": "markdown",
   "id": "5a6d7386-7439-4217-900a-98851d42563f",
   "metadata": {},
   "source": [
    "# Dr. Durant's Solution - Bias/Variance - KNN - Problem Set\n",
    "\n",
    "## Problem 2\n",
    "\n",
    "See how far you can get before reviewing my solution."
   ]
  },
  {
   "cell_type": "code",
   "execution_count": null,
   "id": "a435f48d-19aa-48a2-b139-72e92ef1cf76",
   "metadata": {},
   "outputs": [],
   "source": [
    "import pprint \n",
    "import numpy as np\n",
    "import sklearn\n",
    "import sklearn.neighbors\n",
    "import sklearn.model_selection\n",
    "import pandas as pd\n",
    "import matplotlib.pyplot as plt"
   ]
  },
  {
   "cell_type": "code",
   "execution_count": null,
   "id": "144e0a85-3384-48d1-8ac7-425ee8db8086",
   "metadata": {},
   "outputs": [],
   "source": [
    "df = pd.read_csv(\"Data/diabetes.csv\")\n",
    "df.head()"
   ]
  },
  {
   "cell_type": "code",
   "execution_count": null,
   "id": "7b90ab73-b79c-4e78-84c1-18e96a07df62",
   "metadata": {},
   "outputs": [],
   "source": [
    "X = df.drop(columns=['Outcome'])\n",
    "y = df['Outcome']"
   ]
  },
  {
   "cell_type": "code",
   "execution_count": null,
   "id": "ba48eefd-16c0-444a-91f0-359ebe167649",
   "metadata": {},
   "outputs": [],
   "source": [
    "model = sklearn.neighbors.KNeighborsClassifier()"
   ]
  },
  {
   "cell_type": "code",
   "execution_count": null,
   "id": "538bda8d-e18a-4e15-b0a9-2c1fb713a52c",
   "metadata": {},
   "outputs": [],
   "source": [
    "scores = sklearn.model_selection.cross_validate(model, X, y, return_train_score=True)\n",
    "pprint.pp(scores)"
   ]
  },
  {
   "cell_type": "code",
   "execution_count": null,
   "id": "992248bf-bfcc-43d8-85e5-a97b9bd209bd",
   "metadata": {},
   "outputs": [],
   "source": [
    "for set in ['train', 'test']:\n",
    "    print(f\"{set}: average = {np.mean(scores[set+'_score'])}\")"
   ]
  },
  {
   "cell_type": "code",
   "execution_count": null,
   "id": "f02ffcfa-dcb4-44e2-a007-6a60c48c0159",
   "metadata": {},
   "outputs": [],
   "source": [
    "acc = {'train': [], 'test': []}\n",
    "k_max = 50\n",
    "for k in range(1,k_max):\n",
    "    model = sklearn.neighbors.KNeighborsClassifier(n_neighbors=k)\n",
    "    scores = sklearn.model_selection.cross_validate(model, X, y, return_train_score=True)\n",
    "    for set in ['train', 'test']:\n",
    "        acc[set].append(np.mean(scores[set+'_score']))"
   ]
  },
  {
   "cell_type": "code",
   "execution_count": null,
   "id": "ae73682b-cad5-4462-b9ff-0045ecb6b029",
   "metadata": {},
   "outputs": [],
   "source": [
    "plt.plot(np.arange(1,k_max), acc['train'], label=\"Train Accuracy\")\n",
    "plt.plot(np.arange(1,k_max), acc['test'], label=\"Test Accuracy\")\n",
    "plt.xlabel(\"n (KNN Cluster Size)\")\n",
    "plt.ylabel(\"Accuracy\")\n",
    "plt.legend()\n",
    "plt.show()"
   ]
  }
 ],
 "metadata": {
  "kernelspec": {
   "display_name": "Python 3 (ipykernel)",
   "language": "python",
   "name": "python3"
  },
  "language_info": {
   "codemirror_mode": {
    "name": "ipython",
    "version": 3
   },
   "file_extension": ".py",
   "mimetype": "text/x-python",
   "name": "python",
   "nbconvert_exporter": "python",
   "pygments_lexer": "ipython3",
   "version": "3.11.7"
  }
 },
 "nbformat": 4,
 "nbformat_minor": 5
}
